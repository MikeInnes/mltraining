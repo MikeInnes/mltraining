{
 "cells": [
  {
   "cell_type": "code",
   "execution_count": 1,
   "metadata": {},
   "outputs": [],
   "source": [
    "using Flux, Flux.Data.MNIST, Images\n",
    "using Flux: onehotbatch, argmax, crossentropy, throttle\n",
    "using Base.Iterators: repeated, partition\n",
    "# using CuArrays"
   ]
  },
  {
   "cell_type": "code",
   "execution_count": 2,
   "metadata": {
    "scrolled": true
   },
   "outputs": [
    {
     "data": {
      "text/html": [
       "<table><tbody><tr><td style='text-align:center;vertical-align:middle; margin: 0.5em;border:1px #90999f solid;border-collapse:collapse'><img style='max-width: 100px; max-height:100px;display:inline' src=\"data:image/png;base64,iVBORw0KGgoAAAANSUhEUgAAAHAAAABwCAAAAADji6uXAAAABGdBTUEAALGPC/xhBQAAAAJiS0dEAP+Hj8y/AAAAB3RJTUUH4gUDDSMA+3zUhQAAAYxJREFUaN7t2r8rRWEcx/GLSUqy+FUWyiDKxCiDURgV/wCTxUaJKKsMMpgMKBtFWZQyyMIkA2UVUvLjxvtTnrrdTunqua6Tz2u5t26dd8/wnB/fczMZMzMzs3+oArU5prGIHTRiAx94xgwcLH2wGa0Ywyo2kU1wjW3o+yOO0AsHSxvswh2y33jDKIa/9KANBa/OwehBbexLJEWOsQtt8AcUfHAHfyUog1jDOELsFFXQ7+3QCcHBvxuUapRBB1ZwBFEDDhY9GCxBwUOUw8H0BbXZFVO0Hw6mLygt0AVXN77rmIBOCg6mJyhDuEe4IE+hAQ6mJygd2EeIrqAJDqYnKDXQg+g7FD2Ag+kKBi9QUJ8/mj45WJJgJ2axh7D5z1C0G2QHo9HQbhm3yB0UvUKDougrczBaqB6TuEL+oO8EA4i6MgejBevQhwskDWl1Uxx1szsYLagB+xaShux6kaXBbSWirczBaMFu6MXjDfJDT5hHGLBH4WD0oP4EkBs5xwLmoIeXaCEHixY0M7OCfQI3irirkfzU5gAAAABJRU5ErkJg\"></td><td style='text-align:center;vertical-align:middle; margin: 0.5em;border:1px #90999f solid;border-collapse:collapse'><img style='max-width: 100px; max-height:100px;display:inline' src=\"data:image/png;base64,iVBORw0KGgoAAAANSUhEUgAAAHAAAABwCAAAAADji6uXAAAABGdBTUEAALGPC/xhBQAAAAJiS0dEAP+Hj8y/AAAAB3RJTUUH4gUDDSMA+3zUhQAAAatJREFUaN7t2L0rRWEAx/E7UbLJoBhZiRKljAbKgtmfINs1icFkILsisVjYFAtRJpsReSmDl1JKufH9ladOct1z3Xs65+b3We7t9JzzvcM5z3Puk8uZmZlZRXqwigL02Q0HayfYhUe8RzzAwdoI9uIaulkUesI99L0fdXAwm8EGDOASungInmIM4dgMHMxmcB3RBz0EZRL70LFNOJi9oBZbTdaFLweYhr7foBOj+MAWHMxW8Ptiu4tGDCOPZoSx+gEvqOiFysGqBjuwAV1Ii+wZNFEXGx8mA53jYPrBeuxAF3jGEJrQilLBQziYflAvteFhH0SccxzMVvAYYbGNe44WYJ1zBAfTDY7gFboBphD3vHDTrMDBdIPj0Il3aEGp8ZroF6DgHvSS5WA2gheIE5uHxl9BC3VZMQcTDS7ht3H6o6OXXo3dRtkhBxMLTkAPsW6CYmO0qRA2Gtbw55iDiQTDTfOGZejmaIOO6w+OfohCmhi0mdcHB7MZDG5xjugxvezOoaKQg4kFtXFwgp821LVBVGpSdzD9oOgFeBbR4CLaUfWYg4kEzczM/olPb9eX2t8FSoIAAAAASUVORK5C\"></td><td style='text-align:center;vertical-align:middle; margin: 0.5em;border:1px #90999f solid;border-collapse:collapse'><img style='max-width: 100px; max-height:100px;display:inline' src=\"data:image/png;base64,iVBORw0KGgoAAAANSUhEUgAAAHAAAABwCAAAAADji6uXAAAABGdBTUEAALGPC/xhBQAAAAJiS0dEAP+Hj8y/AAAAB3RJTUUH4gUDDSMA+3zUhQAAAUVJREFUaN7t2S1LBFEYhuFFsIrNoGZNKzYtFn+BQYsgssFfsKBF+yZNgknQZPQD/AdWwWQQ66ogKCKI+LH30xZW4XjY8eXAc7Wd2XfvE84wM2ytZmZmZmY95nGHCTgYE5zDAnKDGziDg3HBLRwiJzaAPVxhEg7GBG+QGxzFFw6QPORg34O3yA2eQ8FNOBgTrOMVucELKDgDB2OCunlqICc4gjY0Pw4HY4L70IDCfw1qkZq9xjAcjA3qhSTl+0NYwgneoNllJK/SwcqCi+g+PoVpNLGDXTzjBQ84hT5/IPkB2MFKgvqhTzzisouOaSHveIJutNvQBhnDIO6h88kxBysJyjqOf9DAbw9Ha9CC9CLkYHwwxxEUbMHBsoOzcNBBB+OC31iBg+UGtWlW4WDZQf1J4mC5QV34DpYb1AX/r5vGQTMz668O1qS/bXAGxQwAAAAASUVORK5C\"></td><td style='text-align:center;vertical-align:middle; margin: 0.5em;border:1px #90999f solid;border-collapse:collapse'><img style='max-width: 100px; max-height:100px;display:inline' src=\"data:image/png;base64,iVBORw0KGgoAAAANSUhEUgAAAHAAAABwCAAAAADji6uXAAAABGdBTUEAALGPC/xhBQAAAAJiS0dEAP+Hj8y/AAAAB3RJTUUH4gUDDSMA+3zUhQAAARFJREFUaN7t2SFKRUEUgOEXDYJF0KbN6gJERVyA1SJGFyG6AbvB4AZcgOUFwWqyajOpwSAYLhf9D7yRV8QyJxz4vw38HJh7Z+7cyUSSJEm/TjHiGzswWCt4jE8MiOg2DNYKnmOYMVgvuI93ROwRa1iAwRrBLbygLZgjpE1mMMUVxpkpUmMGu1tGhGKxvGEPBusE1/GAFjxD6nQGuztBOzDdYgkG6wQP8IEI3mEFqdMZ7Coe+HHONVKnM9jdJYY5GzBYJ7iJZ7TYDVKnM9jdK1rsHoswWCvYDr3hEKkxg93FRhs/QNrGGxd4BusE46UdF3gR+sIFUm98DXa3i/bx+YS0kEGDBv+0irg8MFg3KEn61w99Ni8tJcZfTQAAAABJRU5ErkJg\"></td><td style='text-align:center;vertical-align:middle; margin: 0.5em;border:1px #90999f solid;border-collapse:collapse'><img style='max-width: 100px; max-height:100px;display:inline' src=\"data:image/png;base64,iVBORw0KGgoAAAANSUhEUgAAAHAAAABwCAAAAADji6uXAAAABGdBTUEAALGPC/xhBQAAAAJiS0dEAP+Hj8y/AAAAB3RJTUUH4gUDDSMA+3zUhQAAAWhJREFUaN7t2bErBnEcx/FnoIhkIZPJpMxYlMmE0WIwK4NSNqVMFoU/ApMJC1kMVovYMFAmSgYn3p96vnWL6Z7n3O/6vKbnud/1ez9Xv+6eu2s0zMzMzMzM/sE49nGD76ZVLEDbNe5gdYOa9AUZFDqHwlmTth3AweoFOzCJd2jiC0yjE704QQTX4GD1gkuIhXGKPsTYImLsAQNwsFrBLWgxaMJd5GNyiwjOo/DROdjS4AYU+8QxuhFjXZjDB7TPJgofnYMtDfYjLraK5cdGcI1YLIfogYPVCg4iJhyGvq/jCm+Ik8EXZlEo5mBbglo0z4g/R1nOI56gz9qncMzBtgRFN5evUPAO2xjFEC6h4A4crG7wL1P4gX7IChxMLziDOBm05G7JwdKD4mDawfqv0voHl+Fg2sExxAXYwTSDcg8tmgk4mGYwHrzrhZducBxML6iH7WdQ9AiFH+45WHowontQtLSF46DVzy+EgqssLrxZiAAAAABJRU5ErkJg\"></td><td style='text-align:center;vertical-align:middle; margin: 0.5em;border:1px #90999f solid;border-collapse:collapse'><img style='max-width: 100px; max-height:100px;display:inline' src=\"data:image/png;base64,iVBORw0KGgoAAAANSUhEUgAAAHAAAABwCAAAAADji6uXAAAABGdBTUEAALGPC/xhBQAAAAJiS0dEAP+Hj8y/AAAAB3RJTUUH4gUDDSMA+3zUhQAAAa1JREFUaN7t2U8opGEAx3HlXyl/a4lC21KuDvawXDhx4IqDctgLhz1xWLGtE7ctF3txclDKhVHOTiJRLpSiKG6bRS4z2e+v5qnpvSjend7J73OZMc/7Pt/U+2+eKSoyMzMze+cq0YivmEE5HCyM4Ecs4xjpHEtwMNnBDvzGAxTI4BIn0N+30DYOJi9YDYX+IPcgOUUr2hE+64GDyQuOIx1xhmZo3MHkB7cRJjzHGloQxgfhYLKDTfiJL6hHdFwPUQ4mO/iSFThYWMFv+A59gdHrPhTbRTEcTGawAl3YQibrGeH9NT4htv/KwdiCpfiMK+jAuIcmX8dfhBP+BtMog4PJCWrnIYRJ59ANjdUhuqggw3j1ApGDsQZ1sCwgTJRCDTT2AQfQCf+EeWwgbLuDPnRmOZj/oG6ii9DOd5hELTSmC/geNKZFhV7o8yr0YxXaJ8Qv4GD+gxPQxro4j0An+QB0wQ4Lez8QFhWiRpHK0oKDg/kP6maqSR9xCB0cuRfoWcT6hO1g7MEjRG+sm5hCG0oQW8zB/xLUD5Fj+AV94WzAm5+oHcxr0MzMzKzA/APi6Dp6kH0fRgAAAABJRU5ErkJg\"></td><td style='text-align:center;vertical-align:middle; margin: 0.5em;border:1px #90999f solid;border-collapse:collapse'><img style='max-width: 100px; max-height:100px;display:inline' src=\"data:image/png;base64,iVBORw0KGgoAAAANSUhEUgAAAHAAAABwCAAAAADji6uXAAAABGdBTUEAALGPC/xhBQAAAAJiS0dEAP+Hj8y/AAAAB3RJTUUH4gUDDSMA+3zUhQAAAMVJREFUaN7t2rEJwlAURuH0NtY2CnYuIu6iG+gOWriEjSM4hJ3gCG5g0HPBgK1FhD+cb4HTXO7jvaRpJEnSzw544YopDGYFZ3igxRNLGMwKjnCGwdxg2cNgbnCMCwzmBie4owtu0eshbLAXO3TBsobBrGAxmB+sy0z7YTAzOPwpNWjQoMH/Lu8TDOYFv4emLGAwK3jEd7AeiwxmBTcwmB0sN3QLvJb5HAazgvXBpBuaihrMC65gMDtYj+v184DB3KAkSQPyBmsnTx16xAqqAAAAAElFTkSuQmCC\"></td><td style='text-align:center;vertical-align:middle; margin: 0.5em;border:1px #90999f solid;border-collapse:collapse'><img style='max-width: 100px; max-height:100px;display:inline' src=\"data:image/png;base64,iVBORw0KGgoAAAANSUhEUgAAAHAAAABwCAAAAADji6uXAAAABGdBTUEAALGPC/xhBQAAAAJiS0dEAP+Hj8y/AAAAB3RJTUUH4gUDDSMA+3zUhQAAAXVJREFUaN7t2b8rRWEcx/E7+LlQJgMxWTAomwxWRpFyJwMZ/AWyXRYDMRn4C6RYLAxmisFiQQaLohgsV7y/dU+dns49dM89+srntd1OPe9O3XPuc79PoSAiIiLyz/ShH4v4xEeCAzRBQV9Bi6zjHg8owxYvV7GHNijoJ3iEcNG0oBmBgn6CS4gWekQJqyhVnEJB38EGdFd0IrxuD3n0QjD7aIaCfoLfmcIbouAmcospWHczCB/8TD++Cv5acBbXeEc8doFWKOgr2IsVnMWEm6hnzKMLme9GwboGB3GLcJMUBg+R+c4UzC14h3B4kDRUGIeC/oKmB8sYxkBgA9EXR0G/wTTtUPBvB6ehoM9gIyaQtqmdwysU9BccxTFsERsGhdc7UMQLopgNFcagoI/gFaKFtrEWOEd8I3yCSdQUUzD3YDUWtIH7DlpQc0zBXIJD2EVS6AaX2IL90ckUUjC3oLGDjgU8wUJ2+GGfkw5KFPQZFBGRH/sCTLDCKc3kJ5IAAAAASUVORK5C\"></td><td style='text-align:center;vertical-align:middle; margin: 0.5em;border:1px #90999f solid;border-collapse:collapse'><img style='max-width: 100px; max-height:100px;display:inline' src=\"data:image/png;base64,iVBORw0KGgoAAAANSUhEUgAAAHAAAABwCAAAAADji6uXAAAABGdBTUEAALGPC/xhBQAAAAJiS0dEAP+Hj8y/AAAAB3RJTUUH4gUDDSMA+3zUhQAAALtJREFUaN7t2bHNAQAQR3GRSJSKr9DpRKlVfSNIWENjEioDqNR2MIDGCFoU6PBuCOIf77fAqy53yTUakiRJP6iFf+xgMDP4hweO6MJgbrAMYTA3+ITB7GAZwWB2cAaDecEOTqjgAgbzgmULgwYNfkdwDYPZwTMMZgbnMJgdnKKCV/RgMC84RgVv6MNgXrAcUNEVDGYGl7igDYO5wVrATRjMDdbgT2AwM1gPyzsGMJgZ3GCPjxzCBiVJ7/UCjcCnv5d7AwAAAAAASUVORK5C\"></td><td style='text-align:center;vertical-align:middle; margin: 0.5em;border:1px #90999f solid;border-collapse:collapse'><img style='max-width: 100px; max-height:100px;display:inline' src=\"data:image/png;base64,iVBORw0KGgoAAAANSUhEUgAAAHAAAABwCAAAAADji6uXAAAABGdBTUEAALGPC/xhBQAAAAJiS0dEAP+Hj8y/AAAAB3RJTUUH4gUDDSMA+3zUhQAAAYpJREFUaN7t2D8rRWEAx/E7kEFRyqDIYLslXoBIeQMMpAyyGC0WNllsFotFsngNEhkoFpPBnywMDEpZhCu+v7qnTifTvc9Tz9Hvs5x7z3M733Pq3HOecyoVMzMzi+YIx3CwnMFNvGMbDpYvuAHF3jANB8sXPEENh4gec7AhozhAF4pjs3jBDYbgYJrBa3xjBMWxK/xgEkFiDkYJXkJ/7Ank1w9DF2ztjE4eB9MMruMLOjm6ka1vxz60I2dohYPpBfvwDE2QxpAf04RXsQcEOTIHgwcHcQdtVA8q+bFlfEBji3AwrWAL5qELsm6sWp5jFW3owQU+sYOmj8zB4ME51OoU0wQ3+67wI/T5CU3HHAwenIFutrpYa4Pj0ERJL+3yO6Glfqf4ABxMJ6iXq/dYQH59FafIB2UPDcccjBJcgiZOxfV6qfAKRfTyrlrXAQfTCv6lE1vQyXKL4AEHowdXkN1we+FguYL90MVcN9s1RD86B4PTH10nzC6ixxyMQg+hCk7BwXIGzczM/rFfdhhZTNymX2MAAAAASUVORK5C\"></td></tr></tbody></table><div><small>(a vector displayed as a row to save space)</small></div>"
      ],
      "text/plain": [
       "10-element Array{Array{ColorTypes.Gray{FixedPointNumbers.Normed{UInt8,8}},2},1}:\n",
       " ColorTypes.Gray{FixedPointNumbers.Normed{UInt8,8}}[Gray{N0f8}(0.0) Gray{N0f8}(0.0) … Gray{N0f8}(0.0) Gray{N0f8}(0.0); Gray{N0f8}(0.0) Gray{N0f8}(0.0) … Gray{N0f8}(0.0) Gray{N0f8}(0.0); … ; Gray{N0f8}(0.0) Gray{N0f8}(0.0) … Gray{N0f8}(0.0) Gray{N0f8}(0.0); Gray{N0f8}(0.0) Gray{N0f8}(0.0) … Gray{N0f8}(0.0) Gray{N0f8}(0.0)]\n",
       " ColorTypes.Gray{FixedPointNumbers.Normed{UInt8,8}}[Gray{N0f8}(0.0) Gray{N0f8}(0.0) … Gray{N0f8}(0.0) Gray{N0f8}(0.0); Gray{N0f8}(0.0) Gray{N0f8}(0.0) … Gray{N0f8}(0.0) Gray{N0f8}(0.0); … ; Gray{N0f8}(0.0) Gray{N0f8}(0.0) … Gray{N0f8}(0.0) Gray{N0f8}(0.0); Gray{N0f8}(0.0) Gray{N0f8}(0.0) … Gray{N0f8}(0.0) Gray{N0f8}(0.0)]\n",
       " ColorTypes.Gray{FixedPointNumbers.Normed{UInt8,8}}[Gray{N0f8}(0.0) Gray{N0f8}(0.0) … Gray{N0f8}(0.0) Gray{N0f8}(0.0); Gray{N0f8}(0.0) Gray{N0f8}(0.0) … Gray{N0f8}(0.0) Gray{N0f8}(0.0); … ; Gray{N0f8}(0.0) Gray{N0f8}(0.0) … Gray{N0f8}(0.0) Gray{N0f8}(0.0); Gray{N0f8}(0.0) Gray{N0f8}(0.0) … Gray{N0f8}(0.0) Gray{N0f8}(0.0)]\n",
       " ColorTypes.Gray{FixedPointNumbers.Normed{UInt8,8}}[Gray{N0f8}(0.0) Gray{N0f8}(0.0) … Gray{N0f8}(0.0) Gray{N0f8}(0.0); Gray{N0f8}(0.0) Gray{N0f8}(0.0) … Gray{N0f8}(0.0) Gray{N0f8}(0.0); … ; Gray{N0f8}(0.0) Gray{N0f8}(0.0) … Gray{N0f8}(0.0) Gray{N0f8}(0.0); Gray{N0f8}(0.0) Gray{N0f8}(0.0) … Gray{N0f8}(0.0) Gray{N0f8}(0.0)]\n",
       " ColorTypes.Gray{FixedPointNumbers.Normed{UInt8,8}}[Gray{N0f8}(0.0) Gray{N0f8}(0.0) … Gray{N0f8}(0.0) Gray{N0f8}(0.0); Gray{N0f8}(0.0) Gray{N0f8}(0.0) … Gray{N0f8}(0.0) Gray{N0f8}(0.0); … ; Gray{N0f8}(0.0) Gray{N0f8}(0.0) … Gray{N0f8}(0.0) Gray{N0f8}(0.0); Gray{N0f8}(0.0) Gray{N0f8}(0.0) … Gray{N0f8}(0.0) Gray{N0f8}(0.0)]\n",
       " ColorTypes.Gray{FixedPointNumbers.Normed{UInt8,8}}[Gray{N0f8}(0.0) Gray{N0f8}(0.0) … Gray{N0f8}(0.0) Gray{N0f8}(0.0); Gray{N0f8}(0.0) Gray{N0f8}(0.0) … Gray{N0f8}(0.0) Gray{N0f8}(0.0); … ; Gray{N0f8}(0.0) Gray{N0f8}(0.0) … Gray{N0f8}(0.0) Gray{N0f8}(0.0); Gray{N0f8}(0.0) Gray{N0f8}(0.0) … Gray{N0f8}(0.0) Gray{N0f8}(0.0)]\n",
       " ColorTypes.Gray{FixedPointNumbers.Normed{UInt8,8}}[Gray{N0f8}(0.0) Gray{N0f8}(0.0) … Gray{N0f8}(0.0) Gray{N0f8}(0.0); Gray{N0f8}(0.0) Gray{N0f8}(0.0) … Gray{N0f8}(0.0) Gray{N0f8}(0.0); … ; Gray{N0f8}(0.0) Gray{N0f8}(0.0) … Gray{N0f8}(0.0) Gray{N0f8}(0.0); Gray{N0f8}(0.0) Gray{N0f8}(0.0) … Gray{N0f8}(0.0) Gray{N0f8}(0.0)]\n",
       " ColorTypes.Gray{FixedPointNumbers.Normed{UInt8,8}}[Gray{N0f8}(0.0) Gray{N0f8}(0.0) … Gray{N0f8}(0.0) Gray{N0f8}(0.0); Gray{N0f8}(0.0) Gray{N0f8}(0.0) … Gray{N0f8}(0.0) Gray{N0f8}(0.0); … ; Gray{N0f8}(0.0) Gray{N0f8}(0.0) … Gray{N0f8}(0.0) Gray{N0f8}(0.0); Gray{N0f8}(0.0) Gray{N0f8}(0.0) … Gray{N0f8}(0.0) Gray{N0f8}(0.0)]\n",
       " ColorTypes.Gray{FixedPointNumbers.Normed{UInt8,8}}[Gray{N0f8}(0.0) Gray{N0f8}(0.0) … Gray{N0f8}(0.0) Gray{N0f8}(0.0); Gray{N0f8}(0.0) Gray{N0f8}(0.0) … Gray{N0f8}(0.0) Gray{N0f8}(0.0); … ; Gray{N0f8}(0.0) Gray{N0f8}(0.0) … Gray{N0f8}(0.0) Gray{N0f8}(0.0); Gray{N0f8}(0.0) Gray{N0f8}(0.0) … Gray{N0f8}(0.0) Gray{N0f8}(0.0)]\n",
       " ColorTypes.Gray{FixedPointNumbers.Normed{UInt8,8}}[Gray{N0f8}(0.0) Gray{N0f8}(0.0) … Gray{N0f8}(0.0) Gray{N0f8}(0.0); Gray{N0f8}(0.0) Gray{N0f8}(0.0) … Gray{N0f8}(0.0) Gray{N0f8}(0.0); … ; Gray{N0f8}(0.0) Gray{N0f8}(0.0) … Gray{N0f8}(0.0) Gray{N0f8}(0.0); Gray{N0f8}(0.0) Gray{N0f8}(0.0) … Gray{N0f8}(0.0) Gray{N0f8}(0.0)]"
      ]
     },
     "execution_count": 2,
     "metadata": {},
     "output_type": "execute_result"
    }
   ],
   "source": [
    "imgs = MNIST.images()\n",
    "\n",
    "labels = gpu(collect(onehotbatch(MNIST.labels(), 0:9)))\n",
    "\n",
    "imgs[1:10]"
   ]
  },
  {
   "cell_type": "code",
   "execution_count": 3,
   "metadata": {},
   "outputs": [],
   "source": [
    "# Partition into batches of size 1,000\n",
    "train = [(gpu(cat(4, float.(imgs[i])...)), labels[:,i])\n",
    "         for i in partition(1:60_000, 1000)]\n",
    "\n",
    "# Prepare test set (first 1,000 images)\n",
    "tX = gpu(cat(4, float.(MNIST.images(:test)[1:1000])...))\n",
    "tY = gpu(onehotbatch(MNIST.labels(:test)[1:1000], 0:9));"
   ]
  },
  {
   "cell_type": "code",
   "execution_count": 4,
   "metadata": {},
   "outputs": [
    {
     "data": {
      "text/plain": [
       "loss (generic function with 1 method)"
      ]
     },
     "execution_count": 4,
     "metadata": {},
     "output_type": "execute_result"
    }
   ],
   "source": [
    "m = Chain(\n",
    "  Conv((2,2), 1=>16, relu),\n",
    "  x -> maxpool(x, (2,2)),\n",
    "  Conv((2,2), 16=>8, relu),\n",
    "  x -> maxpool(x, (2,2)),\n",
    "  x -> reshape(x, :, size(x, 4)),\n",
    "  Dense(288, 10), softmax)\n",
    "\n",
    "m = gpu(m)\n",
    "\n",
    "loss(x, y) = crossentropy(m(x), y)"
   ]
  },
  {
   "cell_type": "code",
   "execution_count": 5,
   "metadata": {},
   "outputs": [
    {
     "data": {
      "image/png": "[encoded data removed]",
      "text/plain": [
       "10×100 Array{Gray{Float32},2}:\n",
       " Gray{Float32}(0.0)  Gray{Float32}(1.0)  …  Gray{Float32}(0.0)\n",
       " Gray{Float32}(0.0)  Gray{Float32}(0.0)     Gray{Float32}(1.0)\n",
       " Gray{Float32}(0.0)  Gray{Float32}(0.0)     Gray{Float32}(0.0)\n",
       " Gray{Float32}(0.0)  Gray{Float32}(0.0)     Gray{Float32}(0.0)\n",
       " Gray{Float32}(0.0)  Gray{Float32}(0.0)     Gray{Float32}(0.0)\n",
       " Gray{Float32}(1.0)  Gray{Float32}(0.0)  …  Gray{Float32}(0.0)\n",
       " Gray{Float32}(0.0)  Gray{Float32}(0.0)     Gray{Float32}(0.0)\n",
       " Gray{Float32}(0.0)  Gray{Float32}(0.0)     Gray{Float32}(0.0)\n",
       " Gray{Float32}(0.0)  Gray{Float32}(0.0)     Gray{Float32}(0.0)\n",
       " Gray{Float32}(0.0)  Gray{Float32}(0.0)     Gray{Float32}(0.0)"
      ]
     },
     "execution_count": 5,
     "metadata": {},
     "output_type": "execute_result"
    }
   ],
   "source": [
    "Gray.(collect(labels[:,1:100]))"
   ]
  },
  {
   "cell_type": "code",
   "execution_count": 6,
   "metadata": {},
   "outputs": [
    {
     "data": {
      "image/png": "[encoded data removed]",
      "text/plain": [
       "10×100 Array{Gray{Float32},2}:\n",
       " Gray{Float32}(0.100061)   …  Gray{Float32}(0.100042) \n",
       " Gray{Float32}(0.0999663)     Gray{Float32}(0.0999627)\n",
       " Gray{Float32}(0.0999328)     Gray{Float32}(0.1)      \n",
       " Gray{Float32}(0.0999966)     Gray{Float32}(0.0999101)\n",
       " Gray{Float32}(0.100115)      Gray{Float32}(0.100043) \n",
       " Gray{Float32}(0.0999066)  …  Gray{Float32}(0.0999918)\n",
       " Gray{Float32}(0.100007)      Gray{Float32}(0.0999826)\n",
       " Gray{Float32}(0.100002)      Gray{Float32}(0.100102) \n",
       " Gray{Float32}(0.100035)      Gray{Float32}(0.0999938)\n",
       " Gray{Float32}(0.0999771)     Gray{Float32}(0.0999719)"
      ]
     },
     "execution_count": 6,
     "metadata": {},
     "output_type": "execute_result"
    }
   ],
   "source": [
    "Gray.(collect(m(train[1][1]).data)[:,1:100])"
   ]
  },
  {
   "cell_type": "code",
   "execution_count": 7,
   "metadata": {},
   "outputs": [
    {
     "data": {
      "text/plain": [
       "(::throttled) (generic function with 1 method)"
      ]
     },
     "execution_count": 7,
     "metadata": {},
     "output_type": "execute_result"
    }
   ],
   "source": [
    "evalcb = throttle(5) do\n",
    "    display(Gray.(collect(m(train[1][1]).data)[:,1:100]))\n",
    "end"
   ]
  },
  {
   "cell_type": "code",
   "execution_count": 9,
   "metadata": {},
   "outputs": [
    {
     "data": {
      "image/png": "[encoded data removed]",
      "text/plain": [
       "10×100 Array{Gray{Float32},2}:\n",
       " Gray{Float32}(0.132117)   …  Gray{Float32}(0.0575774)\n",
       " Gray{Float32}(0.0734086)     Gray{Float32}(0.201862) \n",
       " Gray{Float32}(0.140505)      Gray{Float32}(0.105413) \n",
       " Gray{Float32}(0.128803)      Gray{Float32}(0.105161) \n",
       " Gray{Float32}(0.0669634)     Gray{Float32}(0.0791565)\n",
       " Gray{Float32}(0.115229)   …  Gray{Float32}(0.0825598)\n",
       " Gray{Float32}(0.0928567)     Gray{Float32}(0.0665245)\n",
       " Gray{Float32}(0.0749012)     Gray{Float32}(0.103241) \n",
       " Gray{Float32}(0.124961)      Gray{Float32}(0.103626) \n",
       " Gray{Float32}(0.0502554)     Gray{Float32}(0.0948787)"
      ]
     },
     "metadata": {},
     "output_type": "display_data"
    },
    {
     "data": {
      "image/png": "[encoded data removed]",
      "text/plain": [
       "10×100 Array{Gray{Float32},2}:\n",
       " Gray{Float32}(0.111847)   …  Gray{Float32}(0.0230155)\n",
       " Gray{Float32}(0.0770987)     Gray{Float32}(0.42477)  \n",
       " Gray{Float32}(0.146772)      Gray{Float32}(0.0819661)\n",
       " Gray{Float32}(0.154786)      Gray{Float32}(0.0787155)\n",
       " Gray{Float32}(0.0450433)     Gray{Float32}(0.0496299)\n",
       " Gray{Float32}(0.149455)   …  Gray{Float32}(0.0552827)\n",
       " Gray{Float32}(0.0807099)     Gray{Float32}(0.0384793)\n",
       " Gray{Float32}(0.0567679)     Gray{Float32}(0.0796906)\n",
       " Gray{Float32}(0.145241)      Gray{Float32}(0.0892453)\n",
       " Gray{Float32}(0.0322779)     Gray{Float32}(0.0792053)"
      ]
     },
     "metadata": {},
     "output_type": "display_data"
    },
    {
     "data": {
      "image/png": "[encoded data removed]",
      "text/plain": [
       "10×100 Array{Gray{Float32},2}:\n",
       " Gray{Float32}(0.0788399)  …  Gray{Float32}(0.00527385)\n",
       " Gray{Float32}(0.0492399)     Gray{Float32}(0.704471)  \n",
       " Gray{Float32}(0.150214)      Gray{Float32}(0.0503941) \n",
       " Gray{Float32}(0.197998)      Gray{Float32}(0.0410945) \n",
       " Gray{Float32}(0.0274068)     Gray{Float32}(0.0232282) \n",
       " Gray{Float32}(0.224528)   …  Gray{Float32}(0.0223715) \n",
       " Gray{Float32}(0.0599865)     Gray{Float32}(0.0138628) \n",
       " Gray{Float32}(0.0404204)     Gray{Float32}(0.0449711) \n",
       " Gray{Float32}(0.158971)      Gray{Float32}(0.055244)  \n",
       " Gray{Float32}(0.0123959)     Gray{Float32}(0.0390889) "
      ]
     },
     "metadata": {},
     "output_type": "display_data"
    },
    {
     "data": {
      "image/png": "[encoded data removed]",
      "text/plain": [
       "10×100 Array{Gray{Float32},2}:\n",
       " Gray{Float32}(0.042719)    …  Gray{Float32}(0.00123269)\n",
       " Gray{Float32}(0.0147493)      Gray{Float32}(0.860978)  \n",
       " Gray{Float32}(0.103481)       Gray{Float32}(0.0295412) \n",
       " Gray{Float32}(0.227496)       Gray{Float32}(0.0199726) \n",
       " Gray{Float32}(0.0110025)      Gray{Float32}(0.00954429)\n",
       " Gray{Float32}(0.426407)    …  Gray{Float32}(0.00911749)\n",
       " Gray{Float32}(0.0226249)      Gray{Float32}(0.0035284) \n",
       " Gray{Float32}(0.0196972)      Gray{Float32}(0.0215376) \n",
       " Gray{Float32}(0.12902)        Gray{Float32}(0.0287704) \n",
       " Gray{Float32}(0.00280363)     Gray{Float32}(0.0157776) "
      ]
     },
     "metadata": {},
     "output_type": "display_data"
    }
   ],
   "source": [
    "Flux.train!(loss, train, ADAM(params(m)), cb = evalcb)"
   ]
  },
  {
   "cell_type": "markdown",
   "metadata": {},
   "source": [
    "Test set accuracy."
   ]
  },
  {
   "cell_type": "code",
   "execution_count": 10,
   "metadata": {},
   "outputs": [
    {
     "data": {
      "text/plain": [
       "0.788"
      ]
     },
     "execution_count": 10,
     "metadata": {},
     "output_type": "execute_result"
    }
   ],
   "source": [
    "mean(argmax(m(tX)) .== argmax(tY))"
   ]
  }
 ],
 "metadata": {
  "kernelspec": {
   "display_name": "Julia 0.6.3-pre",
   "language": "julia",
   "name": "julia-0.6"
  },
  "language_info": {
   "file_extension": ".jl",
   "mimetype": "application/julia",
   "name": "julia",
   "version": "0.6.3"
  }
 },
 "nbformat": 4,
 "nbformat_minor": 2
}
